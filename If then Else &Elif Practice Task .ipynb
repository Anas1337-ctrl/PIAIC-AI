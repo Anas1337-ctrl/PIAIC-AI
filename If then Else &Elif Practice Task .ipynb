{
 "cells": [
  {
   "cell_type": "raw",
   "metadata": {},
   "source": [
    "1) A company decided to give bonus of 5% to employee if his/her year of service is more than 5 years.\n",
    "Ask user for their salary and year of service and print the net bonus amount."
   ]
  },
  {
   "cell_type": "code",
   "execution_count": 18,
   "metadata": {},
   "outputs": [
    {
     "name": "stdout",
     "output_type": "stream",
     "text": [
      "Enter your Salary: 25000\n",
      "Thank you for your loyalaty and dedicated services\n",
      "Your bonus is:  1250.0\n",
      "Net bonus amount is:  26250.0\n"
     ]
    }
   ],
   "source": [
    "up_salary = 0\n",
    "salary = int(input(\"Enter your Salary: \"))\n",
    "if salary >= 5:\n",
    "    print(\"Thank you for your loyalaty and dedicated services\")\n",
    "    up_salary = salary * 0.05\n",
    "    print(\"Your bonus is: \",up_salary)\n",
    "    salary = salary + up_salary\n",
    "    print(\"Net bonus amount is: \",salary)"
   ]
  },
  {
   "cell_type": "markdown",
   "metadata": {},
   "source": [
    "\n",
    "2) Write a program to check whether a person is eligible for voting or not. (accept age from user)"
   ]
  },
  {
   "cell_type": "code",
   "execution_count": 17,
   "metadata": {},
   "outputs": [
    {
     "name": "stdout",
     "output_type": "stream",
     "text": [
      "Enter your age: 21\n",
      "Your are eligible to vote\n"
     ]
    }
   ],
   "source": [
    "age = int(input(\"Enter your age: \"))\n",
    "if age >= 18:\n",
    "    print(\"Your are eligible to vote\")\n",
    "else:\n",
    "    print(\"You are not eligible to vote\")"
   ]
  },
  {
   "cell_type": "markdown",
   "metadata": {},
   "source": [
    "\n",
    "3) Write a program to check whether a number entered by user is even or odd."
   ]
  },
  {
   "cell_type": "code",
   "execution_count": 16,
   "metadata": {},
   "outputs": [
    {
     "name": "stdout",
     "output_type": "stream",
     "text": [
      "Enter a number: 242\n",
      "The number is even\n"
     ]
    }
   ],
   "source": [
    "num = int(input(\"Enter a number: \"))\n",
    "if num % 2 == 0:\n",
    "    print(\"The number is even\")\n",
    "else:\n",
    "    print(\"The number is odd\")"
   ]
  },
  {
   "cell_type": "markdown",
   "metadata": {},
   "source": [
    "4) Write a program to check whether a number is divisible by 7 or not.\n",
    "Show Answer"
   ]
  },
  {
   "cell_type": "code",
   "execution_count": 15,
   "metadata": {},
   "outputs": [
    {
     "name": "stdout",
     "output_type": "stream",
     "text": [
      "Enter a number to check whether it is divisble by 7 49\n",
      "The number is divisble by 7\n"
     ]
    }
   ],
   "source": [
    "num = int(input(\"Enter a number to check whether it is divisble by 7 \"))\n",
    "if num % 7 == 0:\n",
    "    print(\"The number is divisble by 7\")\n",
    "else:\n",
    "    print(\"The number is not completely divisble by 7\")"
   ]
  },
  {
   "cell_type": "raw",
   "metadata": {},
   "source": [
    "5) Write a program to display \n",
    "\"Hello\" if a number entered by user is a multiple of five , otherwise print \"Bye\"."
   ]
  },
  {
   "cell_type": "code",
   "execution_count": 14,
   "metadata": {},
   "outputs": [
    {
     "name": "stdout",
     "output_type": "stream",
     "text": [
      "Enter a number: 35\n",
      "Hello\n"
     ]
    }
   ],
   "source": [
    "num = int(input(\"Enter a number: \"))\n",
    "if num % 5 == 0:\n",
    "    print(\"Hello\")\n",
    "else:\n",
    "    print(\"Bye\")"
   ]
  },
  {
   "cell_type": "raw",
   "metadata": {},
   "source": [
    "6) Write a program to calculate the electricity bill (accept number of unit from user) according to the following criteria :\n",
    "     Unit                                                     Price  \n",
    "uptp 100 units                                             no charge\n",
    "Next 200 units                                              Rs 5 per unit\n",
    "After 200 units                                             Rs 10 per unit\n",
    "(For example if input unit is 350 than total bill amount is Rs.3500\n",
    "(For example if input unit is 97 than total bill amount is Rs.0\n",
    "(For example if input unit is 150 than total bill amount is Rs.750"
   ]
  },
  {
   "cell_type": "code",
   "execution_count": 2,
   "metadata": {},
   "outputs": [
    {
     "name": "stdout",
     "output_type": "stream",
     "text": [
      "Enter number of units: 350\n",
      "Your electricity bill is: Rs  3500\n"
     ]
    }
   ],
   "source": [
    "units = int(input(\"Enter number of units: \"))\n",
    "if units in range (0,101):\n",
    "    print(\"Your electricity bill is: Rs 0 due to units less than 100 \\ncurrent units used are\",units)\n",
    "elif units >= 100 and units <200:\n",
    "    print(\"Your electricity bil is: Rs \",units*5)\n",
    "else:\n",
    "    print(\"Your electricity bill is: Rs \",units*10)"
   ]
  },
  {
   "cell_type": "raw",
   "metadata": {},
   "source": [
    "7) Write a program to display the last digit of a number.\n"
   ]
  },
  {
   "cell_type": "code",
   "execution_count": 4,
   "metadata": {},
   "outputs": [
    {
     "name": "stdout",
     "output_type": "stream",
     "text": [
      "Enter a number to display its last digit50303\n",
      "The last digit is 3\n"
     ]
    }
   ],
   "source": [
    "val = input(\"Enter a number to display its last digit\")\n",
    "print(\"The last digit is\", val[-1])"
   ]
  },
  {
   "cell_type": "raw",
   "metadata": {},
   "source": [
    "\n",
    "Q8. Write a program to check whether the last digit of a number( entered by user ) is \n",
    "divisible by 3 or not."
   ]
  },
  {
   "cell_type": "code",
   "execution_count": 11,
   "metadata": {},
   "outputs": [
    {
     "name": "stdout",
     "output_type": "stream",
     "text": [
      "Enter a number to display its last digit: 232522\n",
      "The last digit is 2\n",
      "The number is not divisible by 3\n"
     ]
    }
   ],
   "source": [
    "val = input(\"Enter a number to display its last digit: \")\n",
    "print(\"The last digit is\", val[-1])\n",
    "if int(val[-1]) % 3 == 0:\n",
    "    print(\"The number is divisible by 3 \")\n",
    "else:\n",
    "    print(\"The number is not divisible by 3\")"
   ]
  },
  {
   "cell_type": "raw",
   "metadata": {},
   "source": [
    "9) Take values of length and breadth of a rectangle from user and check if it is square or not."
   ]
  },
  {
   "cell_type": "code",
   "execution_count": 13,
   "metadata": {},
   "outputs": [
    {
     "name": "stdout",
     "output_type": "stream",
     "text": [
      "Enter a value for length: 4\n",
      "Enter a value for breadth: 3\n",
      "It is a rectangle with length: 4 and breadth: 3\n"
     ]
    }
   ],
   "source": [
    "length = int(input(\"Enter a value for length: \"))\n",
    "breadth = int(input(\"Enter a value for breadth: \"))\n",
    "if length == breadth:\n",
    "    print(\"It is a cubic\")\n",
    "else:\n",
    "    print(f\"It is a rectangle with length: {length} and breadth: {breadth}\")"
   ]
  },
  {
   "cell_type": "raw",
   "metadata": {},
   "source": [
    "10) Take two int values from user and print greatest among them."
   ]
  },
  {
   "cell_type": "code",
   "execution_count": 23,
   "metadata": {},
   "outputs": [
    {
     "name": "stdout",
     "output_type": "stream",
     "text": [
      "Enter a value: 59\n",
      "Enter a value: 59\n",
      "Both are equal\n"
     ]
    }
   ],
   "source": [
    "val = int(input(\"Enter a value: \"))\n",
    "var = int(input(\"Enter a value: \"))\n",
    "\n",
    "if val > var:\n",
    "    print(f\"{val} is greater than {var}\")\n",
    "elif var > val:\n",
    "    print(f\"{var} is greater than {val}\")\n",
    "else:\n",
    "    print(\"Both are equal\")"
   ]
  },
  {
   "cell_type": "raw",
   "metadata": {},
   "source": [
    "11) A shop will give discount of 10% if the cost of purchased quantity is more than 1000.\n",
    "Ask user for quantity\n",
    "Suppose, one unit will cost 100.\n",
    "Judge and print total cost for user."
   ]
  },
  {
   "cell_type": "code",
   "execution_count": 5,
   "metadata": {},
   "outputs": [
    {
     "name": "stdout",
     "output_type": "stream",
     "text": [
      "Enter number of units purchased: 3\n",
      "Enter price of unit: 500\n",
      "Enter price of unit: 400\n",
      "Enter price of unit: 200\n",
      "Total cost is:  1100\n",
      "Final price is:  1089.0\n"
     ]
    }
   ],
   "source": [
    "discount = 0\n",
    "cost = 0\n",
    "num_of_units = int(input(\"Enter number of units purchased: \"))\n",
    "for i in range(num_of_units):\n",
    "    val = int(input(\"Enter price of unit: \"))\n",
    "    cost = cost + val\n",
    "print(\"Total cost is: \",cost)\n",
    "if cost > 1000:\n",
    "    discount = cost * 0.01\n",
    "    cost = cost - discount\n",
    "    print(\"Final price is: \",cost)"
   ]
  },
  {
   "cell_type": "raw",
   "metadata": {},
   "source": [
    "12) A school has following rules for grading system:\n",
    "\n",
    "a. Below 25 - F\n",
    "\n",
    "b. 25 to 45 - E\n",
    "\n",
    "c. 45 to 50 - D\n",
    "\n",
    "d. 50 to 60 - C\n",
    "\n",
    "e. 60 to 80 - B\n",
    "\n",
    "f. Above 80 - A\n",
    "\n",
    "Ask user to enter marks and print the corresponding grade."
   ]
  },
  {
   "cell_type": "code",
   "execution_count": 18,
   "metadata": {},
   "outputs": [
    {
     "name": "stdout",
     "output_type": "stream",
     "text": [
      "Enter marks for corresponding grade: 79\n",
      "Grade: B\n"
     ]
    }
   ],
   "source": [
    "marks = int(input(\"Enter marks for corresponding grade: \"))\n",
    "\n",
    "if marks >= 81:\n",
    "    print(\"Grade: A\")\n",
    "elif marks in range(60,80):\n",
    "    print(\"Grade: B\")\n",
    "elif marks in range(50,60):\n",
    "    print(\"Grade: C\")\n",
    "elif marks in range(45,50):\n",
    "    print(\"Grade: D\")\n",
    "elif marks in range(25,45):\n",
    "    print(\"Grade: E\")\n",
    "else:\n",
    "    print(\"Grade: F\")"
   ]
  },
  {
   "cell_type": "raw",
   "metadata": {},
   "source": [
    "13) Take input of age of 3 people by user and determine oldest and youngest among them."
   ]
  },
  {
   "cell_type": "code",
   "execution_count": 4,
   "metadata": {},
   "outputs": [
    {
     "name": "stdout",
     "output_type": "stream",
     "text": [
      "Enter your age: 23\n",
      "Enter your age: 21\n",
      "Enter your age: 29\n",
      "21 is the youngest among all\n",
      "29 is the oldest among all\n"
     ]
    }
   ],
   "source": [
    "var= int(input(\"Enter your age: \"))\n",
    "val= int(input(\"Enter your age: \"))\n",
    "data= int(input(\"Enter your age: \"))\n",
    "\n",
    "if (var > val and var > data):\n",
    "    print(f\"{var} is the oldest among all\")\n",
    "if (var < val and var < data):\n",
    "    print(f\"{var} is the youngest among all\")\n",
    "if (val > var and val > data):\n",
    "    print(f\"{val} is the oldest among all\")\n",
    "if (val < var and val < data):\n",
    "    print(f\"{val} is the youngest among all\")\n",
    "if (data > val and data > var):\n",
    "    print(f\"{data} is the oldest among all\")\n",
    "if (data < val and data < var):\n",
    "    print(f\"{data} is the youngest among all\")\n",
    "if (var==val and var==data):\n",
    "    print(\"All are the same age\")\n",
    "\n",
    "    "
   ]
  },
  {
   "cell_type": "raw",
   "metadata": {},
   "source": [
    "14)A student will not be allowed to sit in exam if his/her attendence is less than 75%.\n",
    "\n",
    "Take following input from user\n",
    "\n",
    "Number of classes held\n",
    "\n",
    "Number of classes attended.\n",
    "\n",
    "And print\n",
    "\n",
    "percentage of class attended\n",
    "\n",
    "Is student is allowed to sit in exam or not.\n"
   ]
  },
  {
   "cell_type": "code",
   "execution_count": 9,
   "metadata": {},
   "outputs": [
    {
     "name": "stdout",
     "output_type": "stream",
     "text": [
      "Enter number of classes held: 10\n",
      "Enter number of classes attended: 7\n",
      "\n",
      "Total number of classes held: 10\n",
      "Total number of classes attended: 7\n",
      "Percentage of  classes: 70.0\n"
     ]
    }
   ],
   "source": [
    "totalClasses = int(input(\"Enter number of classes held: \"))\n",
    "attendedClasses = int(input(\"Enter number of classes attended: \"))\n",
    "perOfClass = (attendedClasses/totalClasses) * 100\n",
    "print(f\"\"\"\n",
    "Total number of classes held: {totalClasses}\n",
    "Total number of classes attended: {attendedClasses}\n",
    "Percentage of  classes: {perOfClass}\"\"\")"
   ]
  },
  {
   "cell_type": "raw",
   "metadata": {},
   "source": [
    "15) Modify the above question to allow student to sit if he/she has medical cause. Ask user if he/she has medical cause or not ( 'Y' or 'N' ) and print accordingly."
   ]
  },
  {
   "cell_type": "code",
   "execution_count": 11,
   "metadata": {},
   "outputs": [
    {
     "name": "stdout",
     "output_type": "stream",
     "text": [
      "Enter number of classes held: 10\n",
      "Enter number of classes attended: 4\n",
      "\n",
      "Total number of classes held: 10\n",
      "Total number of classes attended: 4\n",
      "Percentage of  classes: 40.0\n",
      "Any Medical Cause?: N\n",
      "Sorry! you are not allowed to sit in exam!\n"
     ]
    }
   ],
   "source": [
    "totalClasses = int(input(\"Enter number of classes held: \"))\n",
    "attendedClasses = int(input(\"Enter number of classes attended: \"))\n",
    "perOfClass = (attendedClasses/totalClasses) * 100\n",
    "print(f\"\"\"\n",
    "Total number of classes held: {totalClasses}\n",
    "Total number of classes attended: {attendedClasses}\n",
    "Percentage of  classes: {perOfClass}\"\"\")\n",
    "\n",
    "if attendedClasses <5:\n",
    "    medical = input(\"Any Medical Cause?: \")\n",
    "    if medical == 'Y':\n",
    "        print(\"You are allowed to sit in exam!\")\n",
    "    else:\n",
    "        print(\"Sorry! you are not allowed to sit in exam!\")"
   ]
  },
  {
   "cell_type": "raw",
   "metadata": {},
   "source": [
    "16) Write a program to check if a year is leap year or not.\n",
    "\n",
    "If a year is divisible by 4 then it is leap year but if the year is century year like 2000, 1900, 2100 then it must be divisible by 400."
   ]
  },
  {
   "cell_type": "code",
   "execution_count": 25,
   "metadata": {},
   "outputs": [
    {
     "name": "stdout",
     "output_type": "stream",
     "text": [
      "Enter year to check, If it is a leap year or not: 2016\n",
      "The entered year is a leap year!\n"
     ]
    }
   ],
   "source": [
    "year = int(input(\"Enter year to check, If it is a leap year or not: \"))\n",
    "if year % 4 == 0:\n",
    "    print(\"The entered year is a leap year!\")\n",
    "else:\n",
    "    print(\"The entered year is not a leap year!\")"
   ]
  },
  {
   "cell_type": "raw",
   "metadata": {},
   "source": [
    "17) Ask user to enter age, gender ( M or F ), marital status ( Y or N ) and then using following rules print their place of service.\n",
    "\n",
    "if employee is female, then she will work only in urban areas.\n",
    "\n",
    "if employee is a male and age is in between 20 to 40 then he may work in anywhere\n",
    "\n",
    "if employee is male and age is in between 40 t0 60 then he will work in urban areas only.\n",
    "\n",
    "And any other input of age should print \"ERROR\""
   ]
  },
  {
   "cell_type": "code",
   "execution_count": 7,
   "metadata": {},
   "outputs": [
    {
     "name": "stdout",
     "output_type": "stream",
     "text": [
      "Enter Age: 40\n",
      "Enter Gender: M\n",
      "Enter Martial Status: Married\n",
      "You are shortlisted and you will be either assigned to Urban area or Rural area\n"
     ]
    }
   ],
   "source": [
    "age = int(input(\"Enter Age: \"))\n",
    "gender = input(\"Enter Gender: \")\n",
    "status = input(\"Enter Martial Status: \")\n",
    "\n",
    "if gender == 'F':\n",
    "    print(\"You are assigned to HR position in Urban Area\")\n",
    "if gender == 'M' and age in range(20,41):\n",
    "    print(\"You are shortlisted and you will be either assigned to Urban area or Rural area\")\n",
    "if gender == 'M' and age in range(42,60):\n",
    "    print(\"You are hired due to your experince level and you area of working will be Urban area only\")"
   ]
  },
  {
   "cell_type": "code",
   "execution_count": null,
   "metadata": {},
   "outputs": [],
   "source": []
  }
 ],
 "metadata": {
  "kernelspec": {
   "display_name": "Python 3 (ipykernel)",
   "language": "python",
   "name": "python3"
  },
  "language_info": {
   "codemirror_mode": {
    "name": "ipython",
    "version": 3
   },
   "file_extension": ".py",
   "mimetype": "text/x-python",
   "name": "python",
   "nbconvert_exporter": "python",
   "pygments_lexer": "ipython3",
   "version": "3.9.12"
  }
 },
 "nbformat": 4,
 "nbformat_minor": 2
}
