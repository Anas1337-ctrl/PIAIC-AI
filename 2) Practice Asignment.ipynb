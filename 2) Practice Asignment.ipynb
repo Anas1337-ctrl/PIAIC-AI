{
 "cells": [
  {
   "cell_type": "markdown",
   "id": "f6519aad",
   "metadata": {
    "id": "f6519aad"
   },
   "source": [
    "# User input"
   ]
  },
  {
   "cell_type": "raw",
   "id": "948191fe",
   "metadata": {
    "id": "948191fe"
   },
   "source": [
    "1. Take a sentence input from user using input function. Count occurence of a particular character/word in the sentence and print the message that the character appear this many times in the sentence.\n",
    "Like if user inputs> \"My name is Sana. I am an undergraduate student. I am learning Artificial Intellegence in PIAIC\"\n",
    "Your output should be:\n",
    "    I appears 5 times in your sentence\n",
    "Hint: nahi batounga use string methods.\n",
    "Note: Sana is a boy. His full name is SanaUllah😄"
   ]
  },
  {
   "cell_type": "code",
   "execution_count": 10,
   "id": "13270d29",
   "metadata": {},
   "outputs": [
    {
     "name": "stdout",
     "output_type": "stream",
     "text": [
      "Enter a Sentence to count occurences: Artificial Intelligence is a intellectual course\n",
      "Total number of occurences of 'i' were 6\n"
     ]
    }
   ],
   "source": [
    "count = 0\n",
    "sentence = input(\"Enter a Sentence to count occurences: \")\n",
    "for data in sentence:\n",
    "    if data == \"i\":\n",
    "        count+=1\n",
    "print(f\"Total number of occurences of 'i' were {count}\")"
   ]
  },
  {
   "cell_type": "raw",
   "id": "bf6c3672",
   "metadata": {
    "id": "bf6c3672"
   },
   "source": [
    "2. Take a number input from user and print the square of that number. \n",
    "\n",
    "if a user inputs 10 Your output should be like:\n",
    "    The square of 10 is 100\n",
    "if a user inputs 5 Your output should be like:\n",
    "    The square of 5 is 25\n",
    "if a user inputs 2 Your output should be like:\n",
    "    The square of 2 is 4\n"
   ]
  },
  {
   "cell_type": "code",
   "execution_count": 4,
   "id": "a2e3869a",
   "metadata": {},
   "outputs": [
    {
     "name": "stdout",
     "output_type": "stream",
     "text": [
      "Enter a number to get its square: 3\n",
      "The square of entered number is:  9\n"
     ]
    }
   ],
   "source": [
    "val = int(input(\"Enter a number to get its square: \"))\n",
    "val = val*val\n",
    "print(\"The square of entered number is: \",val)"
   ]
  },
  {
   "cell_type": "raw",
   "id": "0da0f529",
   "metadata": {
    "id": "0da0f529"
   },
   "source": [
    "3. Take two inputs from user using two input functions add these two numbers and print the result.\n",
    "For example if a user inputs 10 in first input, 20 in second input then your output mustbe like:\n",
    "    The sum of 10 and 20 is 30\n",
    "    \n",
    "For example if a user inputs 12 in first input, 30 in second input then your output mustbe like:\n",
    "    The sum of 12 and 30 is 42\n",
    "\n",
    "For example if a user inputs 100 in first input, 200 in second input then your out put mustbe like:\n",
    "    The sum of 100 and 200 is 300"
   ]
  },
  {
   "cell_type": "code",
   "execution_count": 7,
   "id": "27b25e60",
   "metadata": {},
   "outputs": [
    {
     "name": "stdout",
     "output_type": "stream",
     "text": [
      "Enter first number: 12\n",
      "Enter Second number: 30\n",
      "The entered number were 12 & 30 and the sum of the entered number is 42\n"
     ]
    }
   ],
   "source": [
    "num1 = int(input(\"Enter first number: \"))\n",
    "num2 = int(input(\"Enter Second number: \"))\n",
    "totalSum = num1 + num2\n",
    "print(f\"The entered number were {num1} & {num2} and the sum of the entered number is {totalSum}\")"
   ]
  },
  {
   "cell_type": "raw",
   "id": "f957eb50",
   "metadata": {
    "id": "f957eb50"
   },
   "source": [
    "4. Format a string to display a card like string:\n",
    "    \n",
    "            Presidential Initiative for AI & Computing\n",
    "                          ID CARD\n",
    "            Student Name   : Asad Ali\n",
    "            Father Name    : Amjad Ali\n",
    "            Date of Birth  : 01-01-2000\n",
    "            Course Enrolled: Artificial Intelligence\n",
    "            Batch          : 2022\n",
    "            Day            : Saturday \n",
    "            Centre         : Sir Syed University of Engg and Technology\n",
    "                \n",
    "Note: all the field values must be taken as user inputs and stored in variable"
   ]
  },
  {
   "cell_type": "code",
   "execution_count": 9,
   "id": "fa068bc1",
   "metadata": {},
   "outputs": [
    {
     "name": "stdout",
     "output_type": "stream",
     "text": [
      "Enter Student name: Anas Rathore\n",
      "Enter Student's Father name: Muhammad Amjad\n",
      "Enter Student date of birth: 28-05-2001\n",
      "Enter course: Artifical Intelligence\n",
      "Enter batch number: 2022\n",
      "Enter day: Saturday\n",
      "Enter centre: Sir Syed University of Science & Technology\n",
      "\n",
      "        ID CARD\n",
      "    Student Name    : Anas Rathore\n",
      "    Father Name     : Muhammad Amjad\n",
      "    Date of Birth   : 28-05-2001\n",
      "    Course Enrolled : Artifical Intelligence\n",
      "    Batch           : 2022\n",
      "    Day             : Saturday\n",
      "    Centre          : Sir Syed University of Science & Technology\n",
      "    \n"
     ]
    }
   ],
   "source": [
    "name = input(\"Enter Student name: \")\n",
    "fName = input(\"Enter Student's Father name: \")\n",
    "dob = input(\"Enter Student date of birth: \")\n",
    "course = input(\"Enter course: \")\n",
    "batch = int(input(\"Enter batch number: \"))\n",
    "day = input(\"Enter day: \")\n",
    "centre = input(\"Enter centre: \")\n",
    "\n",
    "print(f\"\"\"\n",
    "        ID CARD\n",
    "    Student Name    : {name}\n",
    "    Father Name     : {fName}\n",
    "    Date of Birth   : {dob}\n",
    "    Course Enrolled : {course}\n",
    "    Batch           : {batch}\n",
    "    Day             : {day}\n",
    "    Centre          : {centre}\n",
    "    \"\"\")"
   ]
  },
  {
   "cell_type": "code",
   "execution_count": 20,
   "id": "0f2d4d2d",
   "metadata": {
    "colab": {
     "base_uri": "https://localhost:8080/"
    },
    "executionInfo": {
     "elapsed": 13801,
     "status": "ok",
     "timestamp": 1657226418560,
     "user": {
      "displayName": "Rehan Ahmed",
      "userId": "01821591757712537480"
     },
     "user_tz": -300
    },
    "id": "0f2d4d2d",
    "outputId": "1ecbc025-7fb2-491f-9117-40a4390c6494"
   },
   "outputs": [
    {
     "name": "stdout",
     "output_type": "stream",
     "text": [
      "write sentence:is hg is h is g is \n"
     ]
    },
    {
     "data": {
      "text/plain": [
       "0"
      ]
     },
     "execution_count": 20,
     "metadata": {},
     "output_type": "execute_result"
    }
   ],
   "source": [
    "sent = input(str('write sentence:'))\n",
    "count=0\n",
    "for word in sent :\n",
    "  if word == 'is':\n",
    "    count=+1\n",
    "  else:\n",
    "    0\n",
    "\n",
    "count\n"
   ]
  },
  {
   "cell_type": "code",
   "execution_count": 20,
   "id": "VA2uwJrXVkMg",
   "metadata": {
    "executionInfo": {
     "elapsed": 4,
     "status": "ok",
     "timestamp": 1657226418904,
     "user": {
      "displayName": "Rehan Ahmed",
      "userId": "01821591757712537480"
     },
     "user_tz": -300
    },
    "id": "VA2uwJrXVkMg"
   },
   "outputs": [],
   "source": []
  }
 ],
 "metadata": {
  "colab": {
   "name": "2) Practice Asignment.ipynb",
   "provenance": []
  },
  "kernelspec": {
   "display_name": "Python 3 (ipykernel)",
   "language": "python",
   "name": "python3"
  },
  "language_info": {
   "codemirror_mode": {
    "name": "ipython",
    "version": 3
   },
   "file_extension": ".py",
   "mimetype": "text/x-python",
   "name": "python",
   "nbconvert_exporter": "python",
   "pygments_lexer": "ipython3",
   "version": "3.9.12"
  }
 },
 "nbformat": 4,
 "nbformat_minor": 5
}
