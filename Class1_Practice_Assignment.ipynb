{
 "cells": [
  {
   "cell_type": "markdown",
   "metadata": {},
   "source": [
    "# Topic: print()"
   ]
  },
  {
   "cell_type": "markdown",
   "metadata": {},
   "source": [
    "1) Using the python print function print any string value, integer value, boolean value, float value in single print command"
   ]
  },
  {
   "cell_type": "code",
   "execution_count": 2,
   "metadata": {},
   "outputs": [
    {
     "name": "stdout",
     "output_type": "stream",
     "text": [
      "Anas Rathore 5 True 499.2\n"
     ]
    }
   ],
   "source": [
    "print(\"Anas Rathore\",5,True,499.2)"
   ]
  },
  {
   "cell_type": "markdown",
   "metadata": {},
   "source": [
    "2) Using the python print function print hyphon(-) separated any string value, integer value, boolean value, float value in single print command"
   ]
  },
  {
   "cell_type": "code",
   "execution_count": 19,
   "metadata": {},
   "outputs": [
    {
     "name": "stdout",
     "output_type": "stream",
     "text": [
      "Anas-Rathore-5-True-499.2\n"
     ]
    }
   ],
   "source": [
    "print(\"Anas-Rathore\",5,True,499.2,sep=\"-\")"
   ]
  },
  {
   "cell_type": "markdown",
   "metadata": {},
   "source": [
    "3) Using the python print function print any string value, integer value, boolean value, float value in separate print command.\n",
    "But every value must be space separated and in single line "
   ]
  },
  {
   "cell_type": "code",
   "execution_count": 20,
   "metadata": {},
   "outputs": [
    {
     "name": "stdout",
     "output_type": "stream",
     "text": [
      "Anas Rathore 5 True 499.2\n"
     ]
    }
   ],
   "source": [
    "print(\"Anas Rathore\",5,True,499.2,sep=\" \")"
   ]
  },
  {
   "cell_type": "markdown",
   "metadata": {},
   "source": [
    "4) Can a python print function take no value to print???"
   ]
  },
  {
   "cell_type": "code",
   "execution_count": 23,
   "metadata": {},
   "outputs": [
    {
     "name": "stdout",
     "output_type": "stream",
     "text": [
      "\n",
      "yes!\n"
     ]
    }
   ],
   "source": [
    "print()\n",
    "print(\"yes!\")"
   ]
  },
  {
   "cell_type": "markdown",
   "metadata": {},
   "source": [
    "# TOPIC :Variables in Python Operators"
   ]
  },
  {
   "cell_type": "markdown",
   "metadata": {},
   "source": [
    "5) One of my friends name is Mr. Ahmed. He is 30 years old.  He is a lawer by profession. He has done his bachelors in law in the year 2005. He is working with a reputable law firm 'The Himalya Associates' in Karachi since 2015.\n",
    "He is a handsome lawer with height of 5.10 feets and weight 70600g. His monthly income is Rs. 200k PKR.\n",
    "\n",
    "Note: Create variables from above text and also assign values from the text.  "
   ]
  },
  {
   "cell_type": "code",
   "execution_count": 7,
   "metadata": {},
   "outputs": [
    {
     "name": "stdout",
     "output_type": "stream",
     "text": [
      "-----details-----\n",
      "Mr. Ahmed having age of 30 years is Lawyer by profession working at The Himalya Associates since 2015 . He has a height of 5.1 and weight 70600 and income of:  200 k PKR\n"
     ]
    }
   ],
   "source": [
    "name = \"Mr. Ahmed\"\n",
    "age = 30\n",
    "profession = \"Lawyer\"\n",
    "organization = \"The Himalya Associates\"\n",
    "since = 2015\n",
    "height = 5.10 \n",
    "weight = 70600\n",
    "income = 200\n",
    "\n",
    "print(\"-----details-----\")\n",
    "print(name,\"having age of\",age,\"years\",\"is\",profession,\"by profession\",\"working at\",organization,\"since\",since,\". He has a height of\",height,\"and weight\",weight,\"and income of: \",income,\"k PKR\")"
   ]
  },
  {
   "cell_type": "markdown",
   "metadata": {},
   "source": [
    "6)How many years has been to Mr. Ahmed after his bachelors degree? Create a variable that hold current year value and then subtract it from his passout year"
   ]
  },
  {
   "cell_type": "code",
   "execution_count": 9,
   "metadata": {},
   "outputs": [
    {
     "name": "stdout",
     "output_type": "stream",
     "text": [
      "It has been 17 years\n"
     ]
    }
   ],
   "source": [
    "yr_of_graduation = 2005\n",
    "current_year = 2022\n",
    "total_year = current_year - yr_of_graduation\n",
    "print(\"It has been\",total_year,\"years\")"
   ]
  },
  {
   "cell_type": "markdown",
   "metadata": {},
   "source": [
    "7) How many years has Mr. Ahmed been working with law firm 'The Himalya Associates'. Create necesary variables and print the correct number of years in working in the firm"
   ]
  },
  {
   "cell_type": "code",
   "execution_count": 10,
   "metadata": {},
   "outputs": [
    {
     "name": "stdout",
     "output_type": "stream",
     "text": [
      "He has been working for about 7 years\n"
     ]
    }
   ],
   "source": [
    "start_year = 2015\n",
    "current_year = 2022\n",
    "total_year = current_year - start_year\n",
    "print(\"He has been working for about\",total_year,\"years\")"
   ]
  },
  {
   "cell_type": "markdown",
   "metadata": {},
   "source": [
    "8)Convert the monthly income of Mr. Ahmed in dollars.  Create necesary variables and print the income in dollars."
   ]
  },
  {
   "cell_type": "code",
   "execution_count": 11,
   "metadata": {},
   "outputs": [
    {
     "name": "stdout",
     "output_type": "stream",
     "text": [
      "The salary of Mr. Ahmed in Dollar($) is:  9600.0\n"
     ]
    }
   ],
   "source": [
    "dollar = 208.40\n",
    "salary = 2000000\n",
    "conversion = 0.0048 * salary\n",
    "print(\"The salary of Mr. Ahmed in Dollar($) is: \",conversion)\n"
   ]
  },
  {
   "cell_type": "markdown",
   "metadata": {},
   "source": [
    "9) Check if the income in dollars is a float or integer value. if it is float, re-write the code so that income gets converted in integer. print the income in integer type value"
   ]
  },
  {
   "cell_type": "code",
   "execution_count": 12,
   "metadata": {},
   "outputs": [
    {
     "name": "stdout",
     "output_type": "stream",
     "text": [
      "The salary of Mr. Ahmed in Dollar($) is:  9600\n"
     ]
    }
   ],
   "source": [
    "dollar = 208.40\n",
    "salary = 2000000\n",
    "conversion = 0.0048 * salary\n",
    "print(\"The salary of Mr. Ahmed in Dollar($) is: \",int(conversion))\n"
   ]
  },
  {
   "cell_type": "raw",
   "metadata": {},
   "source": [
    "10) Print the type of Mr. Ahmed's weight. Convert the weight of Mr. Ahmed in kg so that weight must be a integer value. "
   ]
  },
  {
   "cell_type": "code",
   "execution_count": 14,
   "metadata": {},
   "outputs": [
    {
     "name": "stdout",
     "output_type": "stream",
     "text": [
      "The weight of Mr. Ahmed's is:  70600 and type is:  <class 'int'>\n",
      "Weight in kg is =  70\n"
     ]
    }
   ],
   "source": [
    "weight = 70600\n",
    "conversion = 0.001 * weight\n",
    "print(\"The weight of Mr. Ahmed's is: \",weight,\"and type is: \",type(weight))\n",
    "print(\"Weight in kg is = \",int(conversion))"
   ]
  },
  {
   "cell_type": "raw",
   "metadata": {},
   "source": [
    "11) print the year of birth of Mr. Ahmed."
   ]
  },
  {
   "cell_type": "code",
   "execution_count": 16,
   "metadata": {},
   "outputs": [
    {
     "name": "stdout",
     "output_type": "stream",
     "text": [
      "The year of birth of Mr. Ahmed is:  1992\n"
     ]
    }
   ],
   "source": [
    "age = 30 \n",
    "current_year = 2022\n",
    "birth_year = 2022 - 30\n",
    "print(\"The year of birth of Mr. Ahmed is: \",birth_year)"
   ]
  },
  {
   "cell_type": "markdown",
   "metadata": {},
   "source": [
    "12) Can Rs. 100 be divided equally among 6 students? \n",
    "HINT: % operator\n",
    "\n"
   ]
  },
  {
   "cell_type": "code",
   "execution_count": 25,
   "metadata": {},
   "outputs": [
    {
     "name": "stdout",
     "output_type": "stream",
     "text": [
      "The amount is:  100\n",
      "Is it possible:  False\n"
     ]
    }
   ],
   "source": [
    "amount = 100\n",
    "equity = amount % 6==0  \n",
    "print(\"The amount is: \",amount)\n",
    "print(\"Is it possible: \",equity)"
   ]
  },
  {
   "cell_type": "code",
   "execution_count": null,
   "metadata": {},
   "outputs": [],
   "source": []
  }
 ],
 "metadata": {
  "kernelspec": {
   "display_name": "Python 3 (ipykernel)",
   "language": "python",
   "name": "python3"
  },
  "language_info": {
   "codemirror_mode": {
    "name": "ipython",
    "version": 3
   },
   "file_extension": ".py",
   "mimetype": "text/x-python",
   "name": "python",
   "nbconvert_exporter": "python",
   "pygments_lexer": "ipython3",
   "version": "3.9.12"
  }
 },
 "nbformat": 4,
 "nbformat_minor": 2
}
